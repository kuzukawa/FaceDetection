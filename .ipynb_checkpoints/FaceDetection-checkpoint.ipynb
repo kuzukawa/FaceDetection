{
 "cells": [
  {
   "cell_type": "markdown",
   "metadata": {},
   "source": [
    "# Face-detection with WebCam.\n",
    "\n",
    "## prerequisite\n",
    "* requires jupyter notebook or jupyter lab.\n",
    "* requires following modules.\n",
    "* need to be downloaded opencv cascade.\n",
    "[GitHub](https://github.com/opencv/opencv)  (git clone to this directory.)\n",
    "\n",
    "## Memo\n",
    "Face detection works with 'FRONT FACE', doesn't work with side face.  \n",
    "so you can detect when face doesn't face to display when you use built-in webcam."
   ]
  },
  {
   "cell_type": "code",
   "execution_count": 2,
   "metadata": {},
   "outputs": [],
   "source": [
    "import matplotlib.pyplot as plt\n",
    "import numpy as np\n",
    "import pandas as pd\n",
    "import cv2"
   ]
  },
  {
   "cell_type": "code",
   "execution_count": 3,
   "metadata": {},
   "outputs": [],
   "source": [
    "cap = cv2.VideoCapture(0)"
   ]
  },
  {
   "cell_type": "code",
   "execution_count": 4,
   "metadata": {},
   "outputs": [],
   "source": [
    "face_cascade_file = \"./opencv/data/haarcascades/haarcascade_frontalface_alt.xml\"\n",
    "face_cascade = cv2.CascadeClassifier(face_cascade_file)"
   ]
  },
  {
   "cell_type": "code",
   "execution_count": 5,
   "metadata": {},
   "outputs": [],
   "source": [
    "def mosaic(img, rect, size):\n",
    "    (x1, y1, x2, y2) = rect\n",
    "    w = x2 - x1\n",
    "    h = y2 - y1\n",
    "    i_rect = img[y1:y2, x1:x2]\n",
    " \n",
    "    i_small = cv2.resize(i_rect, (size, size))\n",
    "    i_mos = cv2.resize(i_small, (w, h), interpolation=cv2.INTER_AREA)\n",
    " \n",
    "    img2 = img.copy()\n",
    "    img2[y1:y2, x1:x2] = i_mos\n",
    "    return img2"
   ]
  },
  {
   "cell_type": "code",
   "execution_count": null,
   "metadata": {},
   "outputs": [],
   "source": [
    "while True:\n",
    "    ret, img = cap.read()\n",
    "    gray = cv2.cvtColor(img, cv2.COLOR_BGR2GRAY)\n",
    "    faces = face_cascade.detectMultiScale(gray, 1.5, 3)\n",
    " \n",
    "    for (x, y, w, h) in faces:\n",
    "        img = mosaic(img, (x, y, x+w, y+h), 10)\n",
    " \n",
    "    cv2.imshow('img', img)\n",
    " \n",
    "    # escape when hit ESC, Enter,, doesn't work lol\n",
    "    k = cv2.waitKey(1)\n",
    "    if k == 13:\n",
    "        break\n",
    " \n",
    "cap.release()\n",
    "cv2.destroyAllWindows()"
   ]
  },
  {
   "cell_type": "code",
   "execution_count": null,
   "metadata": {},
   "outputs": [],
   "source": []
  }
 ],
 "metadata": {
  "kernelspec": {
   "display_name": "Python 3",
   "language": "python",
   "name": "python3"
  },
  "language_info": {
   "codemirror_mode": {
    "name": "ipython",
    "version": 3
   },
   "file_extension": ".py",
   "mimetype": "text/x-python",
   "name": "python",
   "nbconvert_exporter": "python",
   "pygments_lexer": "ipython3",
   "version": "3.8.1"
  }
 },
 "nbformat": 4,
 "nbformat_minor": 4
}
